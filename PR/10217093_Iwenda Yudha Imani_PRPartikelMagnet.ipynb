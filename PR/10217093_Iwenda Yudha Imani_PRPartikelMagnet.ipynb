{
  "metadata": {
    "kernelspec": {
      "name": "python",
      "display_name": "Python (Pyodide)",
      "language": "python"
    },
    "language_info": {
      "codemirror_mode": {
        "name": "python",
        "version": 3
      },
      "file_extension": ".py",
      "mimetype": "text/x-python",
      "name": "python",
      "nbconvert_exporter": "python",
      "pygments_lexer": "ipython3",
      "version": "3.8"
    }
  },
  "nbformat_minor": 5,
  "nbformat": 4,
  "cells": [
    {
      "cell_type": "markdown",
      "source": "Sebuah partikel bermuatan $q$ bergerak dengan kecepatan \n<a name='eqn1'></a>\n\\begin{equation}\\tag{1}\n\\vec{v}(t)=v_x(t)\\hat{i} + v_y(t)\\hat{j}\n\\end{equation}",
      "metadata": {},
      "id": "82244480"
    },
    {
      "cell_type": "markdown",
      "source": "dalam ruang bermedan magnetik konstan \n<a name='eqn2'></a>\n\\begin{equation}\\tag{2}\n\\vec{B} = -\\hat{k}B_z\n\\end{equation} \n\nTentukan gerak partikel!",
      "metadata": {},
      "id": "9747a2f0"
    },
    {
      "cell_type": "markdown",
      "source": "## Pertanyaan 1\n\nTuliskan hukum Newtonnya!",
      "metadata": {},
      "id": "6b640397"
    },
    {
      "cell_type": "markdown",
      "source": "## Jawaban 1\nHukum Newton I menyatakan bahwa benda yang semula diam akan tetap diam dan yang semula bergerak dengan kecepatan tetap akan tetap bergerak dengan kecepatan tetap bila tidak ada gaya yang bekerja pada benda atau jumlah gaya-gaya yang bekerja sama dengan nol\n\n\n\\begin{equation}\\label{eqn:newtons-law-1}\\tag{3}\n\\sum F = 0\n\\end{equation}\n\nBila ada gaya yang bekerj pada benda bermassa $m$ atau jumlah gaya-gaya tidak nol. maka keadaan gerak benda akan berubah melalui percepatan $a$, dengan $m > 0$ dan $a \\ne 0$.\n\n\\begin{equation}\\tag{4}\n    \\begin{aligned}\n        \\sum{\\vec{F}}=m\\vec{a}\\\\\n        q\\vec{v}\\times\\vec{B}=m\\vec{a}\n    \\end{aligned}\n\\end{equation}\n",
      "metadata": {},
      "id": "cde3dbeb"
    },
    {
      "cell_type": "markdown",
      "source": "## Pertanyaan 2\n\nTuliskan persamaan differensial terkopel antara kecepatan pada kedua arah!",
      "metadata": {},
      "id": "f8a34c2a"
    },
    {
      "cell_type": "markdown",
      "source": "## Jawaban 2\n\n$a_x = ...?$ ; $a_y = ...?$\n\n\\begin{equation}\\tag{5}\n    \\begin{aligned}\n        q \\left[ (v_x\\hat{i} + v_y\\hat{j})\\times(-B_z\\hat{k}) \\right] &= m (a_x\\hat{i} + a_y\\hat{j})\\\\\n        q \\left[ v_xB_z\\hat{j} + (-v_yB_z\\hat{i}) \\right] &= m (a_x\\hat{i} + a_y\\hat{j})\n    \\end{aligned}\n\\end{equation}\n\nMaka diperoleh persamaan differensial terkopel pada arah horizontal sebagai berikut,\n\n\\begin{equation}\\tag{6}\n    \\begin{aligned}\n        a_x &= \\frac{-qB_zv_y}{m}\\\\\n        \\frac{\\partial{v_x}}{\\partial{t}} &= \\frac{-qB_zv_y}{m} \n    \\end{aligned}\n\\end{equation}\n\ndan persamaan differensial terkopel pada arah vertikal sebagai berikut,\n\n\\begin{equation}\\tag{7}\n    \\begin{aligned}\n        a_y &= \\frac{qB_zv_x}{m}\\\\\n        \\frac{\\partial{v_y}}{\\partial{t}} &= \\frac{qB_zv_x}{m}\n    \\end{aligned}\n\\end{equation}",
      "metadata": {},
      "id": "e8e323b9"
    },
    {
      "cell_type": "markdown",
      "source": "## Pertanyaan 3\n\nSelesaikan kedua persamaan differensial sehingga diperoleh $v_x(t)$, $v_y(t)$, $x(t)$, dan $y(t)$. \n\nLakukan secara teori!",
      "metadata": {},
      "id": "d16fe4e3"
    },
    {
      "cell_type": "markdown",
      "source": "## Jawaban 3\n\nBerdasarkan persamaan differensial terkopel yang telah diperoleh pada persamaan (6) dan (7)\n    \n\\begin{equation}\n    \\begin{aligned}\n        \\frac{\\partial{v_x}}{\\partial{t}} &= -\\left( \\frac{qB_z}{m} \\right)v_y\\\\\n        \\frac{\\partial{v_y}}{\\partial{t}} &= \\left( \\frac{qB_z}{m} \\right)v_x\n    \\end{aligned}\n\\end{equation}\n\nAsumsikan $\\left( \\frac{qB_z}{m} \\right) = p$\n\nTinjau Persamaan\n    \n\\begin{equation}\\tag{8}\n    \\frac{\\partial{v_x}}{\\partial{t}} = -pv_y\n\\end{equation}\n\nMaka\n\n\\begin{equation}\\tag{9}\n    \\begin{aligned}\n        \\frac{\\partial^2{v_x}}{\\partial{t^2}} &= -p\\frac{\\partial{v_y}}{\\partial{t}}\\\\\n        \\frac{\\partial^2{v_x}}{\\partial{t^2}} &= -p pv_x\\\\\n                                              &= -p^2 v_x\n    \\end{aligned}\n\\end{equation}\n\n\nDari hubungan diatas dapat diperoleh nilai $v_x(t)$ dan $v_y(t)$\n\n\\begin{equation}\\tag{10}\n    \\frac{\\partial^2{v_x}}{\\partial{t^2}} + p^2 v_x = 0 \\to v_x(t) = v_m cos(pt)\n\\end{equation}\n\n\\begin{equation}\\tag{11}\n    \\frac{\\partial^2{v_y}}{\\partial{t^2}} + p^2 v_y = 0 \\to v_y(t) = v_m sin(pt)\n\\end{equation}\n\nMaka dapat diperoleh nilai $x(t)$, dan $y(t)$ adalah\n\n\\begin{equation}\\tag{12}\n    x(t) = \\int{v_x dt} = \\frac{v_m}{p} sin(pt) + x_0\n\\end{equation}\n\n\\begin{equation}\\tag{13}\n    x(y) = \\int{v_y dt} = -\\frac{v_m}{p} cos(pt) + y_0\n\\end{equation}",
      "metadata": {},
      "id": "1ec9a650"
    },
    {
      "cell_type": "code",
      "source": "import numpy as np\nimport matplotlib.pyplot as plt\n\nt = np.arange(0, 30, 0.05)\n\nv_x = - 25 * np.sin(t) #asumsikan q, Bz, dan m adalah 1\nv_y = 25 * np.cos(t)\n\nplt.figure()\nplt.grid()\nplt.plot(t, v_x, 'r', label = '$v_x$')\nplt.plot(t, v_y, 'b', label = '$v_y$')\nplt.title('Rotasi partikel pada medan magnet (teoritis)')\nplt.xlabel('Waktu')\nplt.ylabel('Kecepatan')\nplt.legend(loc = 'upper left')\nplt.savefig('Teoritik aja')\nplt.show()",
      "metadata": {
        "trusted": true
      },
      "execution_count": null,
      "outputs": [],
      "id": "d47f2e38"
    },
    {
      "cell_type": "markdown",
      "source": "## Pertanyaan 4\n\nPeroleh solusi numeriknya!",
      "metadata": {},
      "id": "96c27e7f"
    },
    {
      "cell_type": "code",
      "source": "# masukan persamaan rungekutta orde 4\ndef RK4(F, t, x, y, h):\n    K0 = h * F(t, x, y)\n    K1 = h * F(t + h/2.0, x + K0/2.0, y)\n    K2 = h * F(t + h/2.0, x + K1/2.0, y)\n    K3 = h * F(t + h, x + K2, y)\n    return(K0 + 2.0 * K1 + 2.0 * K2 + K3)/6.0\n\n# masukan persamaan diferensial terkopel\ndef vx_kop(t, vx, vy, q = 1, Bz = 1, m = 1):\n    return -q * Bz/m * vy\n\ndef vy_kop(t, vy, vx, q = 1, Bz = 1, m = 1):\n    return q * Bz/m * vx\n\n# masukan input parameter\nvx0 = 0\nvy0 = 25\n\nt0 = 0\nt_stop = 60\n\nh = 0.005\n\nvxs=[vx0]\nvys=[vy0]\nts=[t0]\n\n# bentuk grafik solusi dengan metode RK4\nwhile ts[-1] < t_stop:\n    h = min(h, t_stop - ts[-1])\n    vx = vxs[-1] + RK4(vx_kop,ts[-1],vxs[-1],vys[-1],h)\n    vy = vys[-1] + RK4(vy_kop,ts[-1],vys[-1],vxs[-1],h)\n    t = ts[-1] + h\n    \n    ts.append(t)\n    vxs.append(vx)\n    vys.append(vy)\n\nplt.figure()\nplt.grid()\nplt.plot(ts, vys, 'r', label = '$v_x$')\nplt.plot(ts, vxs, 'b', label = '$v_y$')\nplt.title('Perputaran partikel pada medan magnet dengan Runge-Kutta')\nplt.xlabel('Waktu (s)')\nplt.ylabel('Kecepatan')\nplt.legend(loc = 'upper left')\nplt.savefig('Pakai RK4')\nplt.show()",
      "metadata": {
        "trusted": true
      },
      "execution_count": null,
      "outputs": [],
      "id": "3410e1d6"
    },
    {
      "cell_type": "markdown",
      "source": "## Pertanyaan 5\n\nBandingkan hasil kedua pendekatan teori dan numerik!",
      "metadata": {},
      "id": "dc9cf7df"
    },
    {
      "cell_type": "code",
      "source": "# Perbandingan kedua grafik\nt = np.arange(0, 60, 0.005)\n\nv_x = - 25 * np.sin(t)\nv_y = 25 * np.cos(t)\n\nplt.figure()\nplt.grid()\nplt.plot(t, v_x, 'g', label = '$v_x teori$')\nplt.plot(t, v_y, 'm', label = '$v_y teori$')\nplt.plot(ts, vys, 'r', label = '$v_x model$')\nplt.plot(ts, vxs, 'b', label = '$v_y model$')\nplt.title('Perbandingan Teoritik vs RK4 ')\nplt.xlabel('Waktu (s)')\nplt.ylabel('Kecepatan')\nplt.legend(loc = 'upper left')\nplt.savefig('Comparison')\nplt.show()",
      "metadata": {
        "trusted": true
      },
      "execution_count": null,
      "outputs": [],
      "id": "ec60201c"
    },
    {
      "cell_type": "markdown",
      "source": " Dalam komparasi antara RK4 dengan teori, menghasilkan grafik yang serupa dengan periode yang cukup sama. namun dengan hasil simulasi dalam penggunaan teori dan numerik dengan Runge-Kutta orde 4, terdapat perbedaan amplitudo",
      "metadata": {},
      "id": "b8f43f82"
    },
    {
      "cell_type": "code",
      "source": "",
      "metadata": {},
      "execution_count": null,
      "outputs": [],
      "id": "45618ba9"
    }
  ]
}